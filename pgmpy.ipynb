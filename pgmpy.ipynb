{
  "nbformat": 4,
  "nbformat_minor": 0,
  "metadata": {
    "colab": {
      "provenance": [],
      "include_colab_link": true
    },
    "kernelspec": {
      "name": "python3",
      "display_name": "Python 3"
    },
    "language_info": {
      "name": "python"
    }
  },
  "cells": [
    {
      "cell_type": "markdown",
      "metadata": {
        "id": "view-in-github",
        "colab_type": "text"
      },
      "source": [
        "<a href=\"https://colab.research.google.com/github/mcytrynbaum/EconML/blob/main/pgmpy.ipynb\" target=\"_parent\"><img src=\"https://colab.research.google.com/assets/colab-badge.svg\" alt=\"Open In Colab\"/></a>"
      ]
    },
    {
      "cell_type": "markdown",
      "source": [
        "# DAGs: D-Separation and Conditonal Independencies, Adjustment via Backdoor and Swigs, Equivalence Classes, Falsifiability Tests.\n"
      ],
      "metadata": {
        "id": "Z5HNN6aB4DKS"
      }
    },
    {
      "cell_type": "code",
      "execution_count": null,
      "metadata": {
        "id": "BGpBoIOplvuj"
      },
      "outputs": [],
      "source": [
        "!pip install pgmpy"
      ]
    },
    {
      "cell_type": "code",
      "source": [
        "import warnings\n",
        "warnings.simplefilter('ignore')"
      ],
      "metadata": {
        "id": "WzEAUJ-N3zTR"
      },
      "execution_count": null,
      "outputs": []
    },
    {
      "cell_type": "markdown",
      "source": [
        "# Graph Generation and Plotting\n",
        "\n",
        "The following DAG is due to Judea Pearl"
      ],
      "metadata": {
        "id": "FkByBeke4Gli"
      }
    },
    {
      "cell_type": "code",
      "source": [
        "import networkx as nx\n",
        "\n",
        "digraph = nx.DiGraph([('Z1','X1'),\n",
        "                    ('X1','D'),\n",
        "                    ('Z1','X2'),\n",
        "                    ('Z2','X3'),\n",
        "                    ('X3','Y'),\n",
        "                    ('Z2','X2'),\n",
        "                    ('X2', 'Y'),\n",
        "                    ('X2', 'D'),\n",
        "                    ('M', 'Y'),\n",
        "                    ('D', 'M')])"
      ],
      "metadata": {
        "id": "pEuMutfK02cN"
      },
      "execution_count": null,
      "outputs": []
    },
    {
      "cell_type": "code",
      "source": [
        "from pgmpy.base.DAG import DAG\n",
        "\n",
        "G = DAG(digraph)"
      ],
      "metadata": {
        "id": "DkCqH_N0pXH5"
      },
      "execution_count": null,
      "outputs": []
    },
    {
      "cell_type": "code",
      "source": [
        "import pylab as plt\n",
        "\n",
        "nx.draw_planar(G, with_labels=True)\n",
        "plt.show()"
      ],
      "metadata": {
        "colab": {
          "base_uri": "https://localhost:8080/",
          "height": 319
        },
        "id": "Yc5wOsquyqCt",
        "outputId": "bae14976-72fd-4733-9688-b40e1bb36419"
      },
      "execution_count": null,
      "outputs": [
        {
          "output_type": "display_data",
          "data": {
            "text/plain": [
              "<Figure size 432x288 with 1 Axes>"
            ],
            "image/png": "[encoded data removed]"
          },
          "metadata": {}
        }
      ]
    },
    {
      "cell_type": "code",
      "source": [
        "print(list(G.predecessors(\"X2\")))\n",
        "print(list(G.successors(\"X2\")))\n",
        "print(list(nx.ancestors(G, \"X2\")))\n",
        "print(list(nx.descendants(G, \"X2\")))"
      ],
      "metadata": {
        "colab": {
          "base_uri": "https://localhost:8080/"
        },
        "id": "VXrVwLlp2B8x",
        "outputId": "7a54a52b-d243-4085-89ca-35f7f1db8bca"
      },
      "execution_count": null,
      "outputs": [
        {
          "output_type": "stream",
          "name": "stdout",
          "text": [
            "['Z1', 'Z2']\n",
            "['Y', 'D']\n",
            "['Z2', 'Z1']\n",
            "['D', 'M', 'Y']\n"
          ]
        }
      ]
    },
    {
      "cell_type": "markdown",
      "source": [
        "# Find Paths Between D and Y\n",
        "\n",
        "\n"
      ],
      "metadata": {
        "id": "OT0PUzu31uwc"
      }
    },
    {
      "cell_type": "code",
      "source": [
        "list(nx.all_simple_paths(G.to_undirected(), \"D\", \"Y\"))"
      ],
      "metadata": {
        "colab": {
          "base_uri": "https://localhost:8080/"
        },
        "id": "21feRbRtQj-3",
        "outputId": "cdd865f1-1a81-4b20-835d-5bbdf9a5b6e4"
      },
      "execution_count": null,
      "outputs": [
        {
          "output_type": "execute_result",
          "data": {
            "text/plain": [
              "[['D', 'X1', 'Z1', 'X2', 'Y'],\n",
              " ['D', 'X1', 'Z1', 'X2', 'Z2', 'X3', 'Y'],\n",
              " ['D', 'M', 'Y'],\n",
              " ['D', 'X2', 'Y'],\n",
              " ['D', 'X2', 'Z2', 'X3', 'Y']]"
            ]
          },
          "metadata": {},
          "execution_count": 9
        }
      ]
    },
    {
      "cell_type": "markdown",
      "source": [
        "# List All Testable Implications of the Model\n",
        "\n",
        "Here we use D-separation to list all the conditional independence relations deduced from the DAG."
      ],
      "metadata": {
        "id": "RuRQKNRX1zod"
      }
    },
    {
      "cell_type": "code",
      "source": [
        "# these returns all conditional independencies even among two sets of variables\n",
        "# conditional on a third set\n",
        "dseps = G.get_independencies()"
      ],
      "metadata": {
        "id": "pKtc2-Z411uB"
      },
      "execution_count": null,
      "outputs": []
    },
    {
      "cell_type": "code",
      "source": [
        "# we display only the ones that correpond to pairs of singletons\n",
        "for dsep in dseps.get_assertions():\n",
        "    if len(dsep.get_assertion()[1])==1:\n",
        "        print(dsep)"
      ],
      "metadata": {
        "id": "W6npM1sB13yU",
        "colab": {
          "base_uri": "https://localhost:8080/"
        },
        "outputId": "22877011-235a-48e2-b4f0-498b5a588067"
      },
      "execution_count": null,
      "outputs": [
        {
          "output_type": "stream",
          "name": "stdout",
          "text": [
            "(Y ⟂ Z1 | Z2, X2, X1)\n",
            "(Y ⟂ D | X2, X1, M)\n",
            "(Y ⟂ X1 | X2, D, Z1)\n",
            "(Y ⟂ Z2 | X2, X3, Z1)\n",
            "(Y ⟂ Z1 | D, Z2, X2, X1)\n",
            "(Y ⟂ Z1 | X3, Z2, X2, X1)\n",
            "(Y ⟂ X1 | Z2, D, X2, Z1)\n",
            "(Y ⟂ D | X2, X1, M, Z1)\n",
            "(Y ⟂ Z2 | X3, X2, X1, Z1)\n",
            "(Y ⟂ X1 | X2, D, M, Z1)\n",
            "(Y ⟂ Z1 | X2, Z2, X1, M, D)\n",
            "(Y ⟂ D | X2, Z2, X1, M, Z1)\n",
            "(Y ⟂ Z1 | X2, X3, Z2, X1, D)\n",
            "(Y ⟂ X1 | X2, Z2, M, D, Z1)\n",
            "(Y ⟂ X1 | X2, X3, Z2, D, Z1)\n",
            "(Y ⟂ Z2 | X2, X3, X1, D, Z1)\n",
            "(Y ⟂ Z1 | X2, X3, Z2, X1, M, D)\n",
            "(Y ⟂ D | X2, X3, Z2, X1, M, Z1)\n",
            "(Y ⟂ X1 | X2, X3, Z2, M, D, Z1)\n",
            "(Y ⟂ Z2 | X2, X3, X1, M, D, Z1)\n",
            "(X2 ⟂ X3 | Z2)\n",
            "(X2 ⟂ M | D)\n",
            "(X2 ⟂ X1 | Z1)\n",
            "(X2 ⟂ X3 | Z2, X1)\n",
            "(X2 ⟂ X3 | Z2, M)\n",
            "(X2 ⟂ M | D, X1)\n",
            "(X2 ⟂ M | D, X3)\n",
            "(X2 ⟂ M | D, Z1)\n",
            "(X2 ⟂ X1 | X3, Z1)\n",
            "(X2 ⟂ X3 | Z2, X1, M)\n",
            "(X2 ⟂ X3 | Z2, X1, Z1)\n",
            "(X2 ⟂ X3 | Z2, D, M)\n",
            "(X2 ⟂ X3 | Z2, M, Z1)\n",
            "(X2 ⟂ M | Z2, D, X3)\n",
            "(X2 ⟂ X1 | Z2, X3, Z1)\n",
            "(X2 ⟂ M | X3, D, X1)\n",
            "(X2 ⟂ M | D, X1, Z1)\n",
            "(X2 ⟂ M | D, X3, Z1)\n",
            "(X2 ⟂ X3 | Z2, D, X1, M)\n",
            "(X2 ⟂ X3 | Z2, X1, M, Z1)\n",
            "(X2 ⟂ M | X3, Z2, D, X1)\n",
            "(X2 ⟂ X3 | Z2, D, M, Z1)\n",
            "(X2 ⟂ M | Z2, D, X3, Z1)\n",
            "(X2 ⟂ M | X3, D, X1, Z1)\n",
            "(X2 ⟂ X3 | Z2, X1, M, D, Z1)\n",
            "(X2 ⟂ M | X3, Z2, X1, D, Z1)\n",
            "(X3 ⟂ Z1 | X1)\n",
            "(X3 ⟂ M | D)\n",
            "(X3 ⟂ X1 | Z1)\n",
            "(X3 ⟂ M | D, X1)\n",
            "(X3 ⟂ M | X2, D)\n",
            "(X3 ⟂ M | D, Z1)\n",
            "(X3 ⟂ D | X2, X1, M)\n",
            "(X3 ⟂ M | X2, D, X1)\n",
            "(X3 ⟂ M | D, X1, Z1)\n",
            "(X3 ⟂ Z1 | Z2, X2, X1, Y)\n",
            "(X3 ⟂ D | X2, X1, M, Y)\n",
            "(X3 ⟂ D | X2, X1, M, Z1)\n",
            "(X3 ⟂ M | X2, D, X1, Z1)\n",
            "(X3 ⟂ X1 | X2, D, M, Z1)\n",
            "(X3 ⟂ X1 | Z1, X2, D, Y)\n",
            "(X3 ⟂ Z1 | X2, Z2, X1, M, D)\n",
            "(X3 ⟂ D | X2, Z2, X1, M, Z1)\n",
            "(X3 ⟂ X2 | Z2, X1, M, D, Z1)\n",
            "(X3 ⟂ Z1 | Y, X2, Z2, X1, D)\n",
            "(X3 ⟂ M | X2, Z2, X1, D, Z1)\n",
            "(X3 ⟂ X1 | X2, Z2, M, D, Z1)\n",
            "(X3 ⟂ X1 | Y, X2, Z2, D, Z1)\n",
            "(X3 ⟂ D | Y, X2, X1, M, Z1)\n",
            "(X3 ⟂ X1 | Y, X2, M, D, Z1)\n",
            "(X3 ⟂ Z1 | Y, X2, Z2, X1, M, D)\n",
            "(X3 ⟂ D | Y, X2, Z2, X1, M, Z1)\n",
            "(X3 ⟂ X1 | Y, X2, Z2, M, D, Z1)\n",
            "(Z2 ⟂ Z1 | X1)\n",
            "(Z2 ⟂ M | D)\n",
            "(Z2 ⟂ X1 | Z1)\n",
            "(Z2 ⟂ M | D, X1)\n",
            "(Z2 ⟂ Z1 | X3, X1)\n",
            "(Z2 ⟂ M | X2, D)\n",
            "(Z2 ⟂ M | D, X3)\n",
            "(Z2 ⟂ M | D, Z1)\n",
            "(Z2 ⟂ X1 | X3, Z1)\n",
            "(Z2 ⟂ D | X2, X1, M)\n",
            "(Z2 ⟂ M | X2, D, X1)\n",
            "(Z2 ⟂ M | X3, D, X1)\n",
            "(Z2 ⟂ M | D, X1, Z1)\n",
            "(Z2 ⟂ Y | X2, X3, M)\n",
            "(Z2 ⟂ M | D, X3, Z1)\n",
            "(Z2 ⟂ D | X2, X1, M, Y)\n",
            "(Z2 ⟂ D | X2, X1, M, Z1)\n",
            "(Z2 ⟂ M | X2, D, X1, Z1)\n",
            "(Z2 ⟂ M | X3, D, X1, Z1)\n",
            "(Z2 ⟂ Y | X2, D, X3, M)\n",
            "(Z2 ⟂ X1 | X2, D, M, Z1)\n",
            "(Z2 ⟂ M | X2, D, X3, Y)\n",
            "(Z2 ⟂ X1 | Z1, X2, D, Y)\n",
            "(Z2 ⟂ D | Y, X2, X3, X1, M)\n",
            "(Z2 ⟂ D | Y, X2, X1, M, Z1)\n",
            "(Z2 ⟂ Y | X2, X3, X1, M, D)\n",
            "(Z2 ⟂ M | Y, X2, X3, X1, D)\n",
            "(Z2 ⟂ X1 | Y, X2, M, D, Z1)\n",
            "(Z2 ⟂ D | Y, X2, X3, X1, M, Z1)\n",
            "(Z2 ⟂ Y | X2, X3, X1, M, D, Z1)\n",
            "(Z2 ⟂ M | Y, X2, X3, X1, D, Z1)\n",
            "(Z2 ⟂ X1 | Y, X2, X3, M, D, Z1)\n",
            "(X1 ⟂ X3 | Z2)\n",
            "(X1 ⟂ M | D)\n",
            "(X1 ⟂ Z2 | X3)\n",
            "(X1 ⟂ X3 | Z2, M)\n",
            "(X1 ⟂ X3 | Z2, X2)\n",
            "(X1 ⟂ M | X2, D)\n",
            "(X1 ⟂ M | D, X3)\n",
            "(X1 ⟂ M | D, Z1)\n",
            "(X1 ⟂ X3 | Z2, D, M)\n",
            "(X1 ⟂ X3 | Z2, M, Z1)\n",
            "(X1 ⟂ X3 | Z2, X2, Z1)\n",
            "(X1 ⟂ M | Z2, D, X3)\n",
            "(X1 ⟂ X2 | Z2, X3, Z1)\n",
            "(X1 ⟂ Y | X2, X3, M)\n",
            "(X1 ⟂ Z2 | X2, X3, Z1)\n",
            "(X1 ⟂ M | D, X3, Z1)\n",
            "(X1 ⟂ X3 | Z2, X2, M, Y)\n",
            "(X1 ⟂ Y | X3, Z2, X2, M)\n",
            "(X1 ⟂ X3 | Z2, D, M, Z1)\n",
            "(X1 ⟂ M | Z2, D, X3, Z1)\n",
            "(X1 ⟂ Y | X2, D, X3, M)\n",
            "(X1 ⟂ M | X2, D, X3, Y)\n",
            "(X1 ⟂ Z2 | Z1, X2, X3, Y)\n",
            "(X1 ⟂ X3 | Y, X2, Z2, M, D)\n",
            "(X1 ⟂ X3 | Y, X2, Z2, M, Z1)\n",
            "(X1 ⟂ Y | X2, X3, Z2, M, D)\n",
            "(X1 ⟂ Y | X2, X3, Z2, M, Z1)\n",
            "(X1 ⟂ M | Y, X2, X3, Z2, D)\n",
            "(X1 ⟂ Z2 | Y, X2, X3, M, Z1)\n",
            "(X1 ⟂ X3 | Y, X2, Z2, M, D, Z1)\n",
            "(X1 ⟂ Y | X2, X3, Z2, M, D, Z1)\n",
            "(X1 ⟂ M | Y, X2, X3, Z2, D, Z1)\n",
            "(X1 ⟂ Z2 | Y, X2, X3, M, D, Z1)\n",
            "(M ⟂ X3 | Z2)\n",
            "(M ⟂ X3 | Z2, X1)\n",
            "(M ⟂ X3 | Z2, X2)\n",
            "(M ⟂ X3 | Z2, Z1)\n",
            "(M ⟂ X3 | Z2, X1, Z1)\n",
            "(M ⟂ X3 | Z2, X2, Z1)\n",
            "(M ⟂ Z2 | X2, X3, Z1)\n",
            "(M ⟂ Z1 | Z2, X2, X1, Y)\n",
            "(M ⟂ Z1 | X3, Z2, X2, X1)\n",
            "(M ⟂ X3 | Z2, X2, X1, Z1)\n",
            "(M ⟂ Z2 | X3, X2, X1, Z1)\n",
            "(M ⟂ X1 | Z1, X2, D, Y)\n",
            "(M ⟂ Z2 | Z1, X2, X3, Y)\n",
            "(M ⟂ Z1 | Y, X2, Z2, X1, D)\n",
            "(M ⟂ Z1 | Y, X2, X3, Z2, X1)\n",
            "(M ⟂ Z1 | X2, X3, Z2, X1, D)\n",
            "(M ⟂ X3 | X2, Z2, X1, D, Z1)\n",
            "(M ⟂ X2 | X3, Z2, X1, D, Z1)\n",
            "(M ⟂ X1 | Y, X2, Z2, D, Z1)\n",
            "(M ⟂ X1 | X2, X3, Z2, D, Z1)\n",
            "(M ⟂ Z2 | Y, X2, X3, X1, Z1)\n",
            "(M ⟂ Z2 | X2, X3, X1, D, Z1)\n",
            "(M ⟂ Z1 | Y, X2, X3, Z2, X1, D)\n",
            "(M ⟂ X1 | Y, X2, X3, Z2, D, Z1)\n",
            "(M ⟂ Z2 | Y, X2, X3, X1, D, Z1)\n",
            "(D ⟂ X3 | Z2)\n",
            "(D ⟂ X3 | Z2, X1)\n",
            "(D ⟂ X3 | Z2, M)\n",
            "(D ⟂ X3 | Z2, X2)\n",
            "(D ⟂ X3 | Z2, Z1)\n",
            "(D ⟂ X3 | Z2, X1, M)\n",
            "(D ⟂ X3 | Z2, X1, Z1)\n",
            "(D ⟂ X3 | Z2, M, Z1)\n",
            "(D ⟂ X3 | Z2, X2, Z1)\n",
            "(D ⟂ Y | X2, X3, M)\n",
            "(D ⟂ Z2 | X2, X3, Z1)\n",
            "(D ⟂ X3 | Z2, X1, M, Z1)\n",
            "(D ⟂ Z1 | Z2, X2, X1, Y)\n",
            "(D ⟂ Z1 | X3, Z2, X2, X1)\n",
            "(D ⟂ X3 | Z2, X2, X1, Z1)\n",
            "(D ⟂ X3 | Z2, X2, M, Y)\n",
            "(D ⟂ Y | X3, Z2, X2, M)\n",
            "(D ⟂ Z2 | X3, X2, X1, Z1)\n",
            "(D ⟂ Z2 | Z1, X2, X3, Y)\n",
            "(D ⟂ Z1 | Y, X2, X3, Z2, X1)\n",
            "(D ⟂ X3 | Y, X2, Z2, M, Z1)\n",
            "(D ⟂ Y | X2, X3, Z2, M, Z1)\n",
            "(D ⟂ Z2 | Y, X2, X3, X1, Z1)\n",
            "(D ⟂ Z2 | Y, X2, X3, M, Z1)\n",
            "(D ⟂ Z1 | Y, X2, X3, Z2, X1, M)\n",
            "(D ⟂ X3 | Y, X2, Z2, X1, M, Z1)\n",
            "(D ⟂ Y | X2, X3, Z2, X1, M, Z1)\n",
            "(D ⟂ Z2 | Y, X2, X3, X1, M, Z1)\n",
            "(Z1 ⟂ X3 | Z2)\n",
            "(Z1 ⟂ M | D)\n",
            "(Z1 ⟂ Z2 | X3)\n",
            "(Z1 ⟂ X3 | Z2, X1)\n",
            "(Z1 ⟂ X3 | Z2, M)\n",
            "(Z1 ⟂ X3 | Z2, X2)\n",
            "(Z1 ⟂ M | D, X1)\n",
            "(Z1 ⟂ Z2 | X3, X1)\n",
            "(Z1 ⟂ M | X2, D)\n",
            "(Z1 ⟂ M | D, X3)\n",
            "(Z1 ⟂ X3 | Z2, X1, M)\n",
            "(Z1 ⟂ X3 | Z2, D, M)\n",
            "(Z1 ⟂ M | Z2, D, X3)\n",
            "(Z1 ⟂ D | X2, X1, M)\n",
            "(Z1 ⟂ M | X2, D, X1)\n",
            "(Z1 ⟂ M | X3, D, X1)\n",
            "(Z1 ⟂ Y | X2, X3, M)\n",
            "(Z1 ⟂ X3 | Z2, D, X1, M)\n",
            "(Z1 ⟂ M | X3, Z2, D, X1)\n",
            "(Z1 ⟂ X3 | Z2, X2, M, Y)\n",
            "(Z1 ⟂ Y | X3, Z2, X2, M)\n",
            "(Z1 ⟂ D | X2, X1, M, Y)\n",
            "(Z1 ⟂ Y | X2, D, X3, M)\n",
            "(Z1 ⟂ M | X2, D, X3, Y)\n",
            "(Z1 ⟂ X3 | Y, X2, Z2, M, D)\n",
            "(Z1 ⟂ Y | X2, X3, Z2, M, D)\n",
            "(Z1 ⟂ M | Y, X2, X3, Z2, D)\n",
            "(Z1 ⟂ D | Y, X2, X3, X1, M)\n",
            "(Z1 ⟂ Y | X2, X3, X1, M, D)\n",
            "(Z1 ⟂ M | Y, X2, X3, X1, D)\n",
            "(Z1 ⟂ X3 | Y, X2, Z2, X1, M, D)\n",
            "(Z1 ⟂ D | Y, X2, X3, Z2, X1, M)\n",
            "(Z1 ⟂ Y | X2, X3, Z2, X1, M, D)\n",
            "(Z1 ⟂ M | Y, X2, X3, Z2, X1, D)\n"
          ]
        }
      ]
    },
    {
      "cell_type": "markdown",
      "source": [
        "# Backdoor and frontdoor adjustments between D and Y"
      ],
      "metadata": {
        "id": "1kdiPPXSGI3C"
      }
    },
    {
      "cell_type": "code",
      "source": [
        "from pgmpy.models.BayesianModel import BayesianNetwork\n",
        "from pgmpy.inference.CausalInference import CausalInference\n",
        "\n",
        "inference = CausalInference(BayesianNetwork(G))"
      ],
      "metadata": {
        "id": "qH4IZynbBrLP"
      },
      "execution_count": null,
      "outputs": []
    },
    {
      "cell_type": "code",
      "source": [
        "inference.get_all_backdoor_adjustment_sets('D', 'Y')"
      ],
      "metadata": {
        "colab": {
          "base_uri": "https://localhost:8080/"
        },
        "id": "eZwZnnUHF7__",
        "outputId": "606c8d76-ec05-4e44-e41c-2e002fb463ff"
      },
      "execution_count": null,
      "outputs": [
        {
          "output_type": "execute_result",
          "data": {
            "text/plain": [
              "frozenset({frozenset({'X2', 'X3'}),\n",
              "           frozenset({'X1', 'X2'}),\n",
              "           frozenset({'X2', 'Z2'}),\n",
              "           frozenset({'X2', 'Z1'})})"
            ]
          },
          "metadata": {},
          "execution_count": 13
        }
      ]
    },
    {
      "cell_type": "code",
      "source": [
        "inference.get_all_frontdoor_adjustment_sets('D', 'Y')"
      ],
      "metadata": {
        "colab": {
          "base_uri": "https://localhost:8080/"
        },
        "id": "tIwu7UapGUSD",
        "outputId": "6d05e117-ce84-436c-ee96-34b1f601cbfc"
      },
      "execution_count": null,
      "outputs": [
        {
          "output_type": "execute_result",
          "data": {
            "text/plain": [
              "frozenset({frozenset({'M'})})"
            ]
          },
          "metadata": {},
          "execution_count": 14
        }
      ]
    },
    {
      "cell_type": "code",
      "source": [
        "inference.get_minimal_adjustment_set('D', 'Y')"
      ],
      "metadata": {
        "colab": {
          "base_uri": "https://localhost:8080/"
        },
        "id": "nf-Gu_7wGaME",
        "outputId": "27b86496-78ef-4dc7-b418-b97d2c67fac5"
      },
      "execution_count": null,
      "outputs": [
        {
          "output_type": "execute_result",
          "data": {
            "text/plain": [
              "{'X1', 'X2'}"
            ]
          },
          "metadata": {},
          "execution_count": 15
        }
      ]
    },
    {
      "cell_type": "code",
      "source": [
        "inference.is_valid_backdoor_adjustment_set('D', 'Y', 'X2')"
      ],
      "metadata": {
        "colab": {
          "base_uri": "https://localhost:8080/"
        },
        "id": "D0lSm4M0Gg6d",
        "outputId": "f4c15b4a-d949-4d69-bb29-f21a0248fb7c"
      },
      "execution_count": null,
      "outputs": [
        {
          "output_type": "execute_result",
          "data": {
            "text/plain": [
              "False"
            ]
          },
          "metadata": {},
          "execution_count": 16
        }
      ]
    },
    {
      "cell_type": "markdown",
      "source": [
        "# Testing DAG Validity by Checking Implied Conditional Independencies with DoWhy-GCM\n",
        "\n",
        "We found all the implied conditional independence relations above. Can we test them?  The answer is yes, and is particularly simple if the DAG is associated with a liner SEM.\n",
        "\n",
        "To illustrate, we simulate the data from a Linear SEM associated to DAG G, and perform a test of conditional independence restrictions, using a kernel based test."
      ],
      "metadata": {
        "id": "vpMg1hkF2Fee"
      }
    },
    {
      "cell_type": "code",
      "source": [
        "!apt install libgraphviz-dev\n",
        "!pip install pygraphviz\n",
        "!pip install dowhy"
      ],
      "metadata": {
        "id": "ukPS9xRXG2ZN"
      },
      "execution_count": null,
      "outputs": []
    },
    {
      "cell_type": "code",
      "source": [
        "# generate data from the SCM\n",
        "import numpy as np\n",
        "import pandas as pd\n",
        "\n",
        "def gen_data(n):\n",
        "    Z1 = np.random.normal(0, 1, size=n)\n",
        "    Z2 = np.random.normal(0, 1, size=n)\n",
        "    X1 = Z1 + np.random.normal(0, 1, size=n)\n",
        "    X2 = Z1 + Z2 + np.random.normal(0, 1, size=n)\n",
        "    X3 = Z2 + np.random.normal(0, 1, size=n)\n",
        "    D = X1 + X2 + np.random.normal(0, 1, size=n)\n",
        "    M = D + np.random.normal(0, 1, size=n)\n",
        "    Y = M + X2 + X3 + np.random.normal(0, 1, size=n)\n",
        "    return pd.DataFrame({'Z1': Z1, 'Z2': Z2, 'X1': X1, 'X2': X2, 'X3': X3, 'D': D, 'M': M, 'Y': Y})"
      ],
      "metadata": {
        "id": "WoxEhW_8iKVQ"
      },
      "execution_count": null,
      "outputs": []
    },
    {
      "cell_type": "code",
      "source": [
        "data = gen_data(5000)"
      ],
      "metadata": {
        "id": "AcQcetSJnJIE"
      },
      "execution_count": null,
      "outputs": []
    },
    {
      "cell_type": "code",
      "source": [
        "import dowhy.gcm as gcm\n",
        "from dowhy.gcm.independence_test import kernel_based, regression_based\n",
        "\n",
        "causal_model = gcm.StructuralCausalModel(digraph)\n",
        "rej = gcm.refute_causal_structure(causal_model.graph, data, conditional_independence_test=kernel_based)"
      ],
      "metadata": {
        "id": "y6pK_7AFng0u"
      },
      "execution_count": null,
      "outputs": []
    },
    {
      "cell_type": "markdown",
      "source": [
        "The rejection result contains two types of tests:\n",
        "- local markov tests: that test whether any node is independent of its non-descendants conditional on its parents (these also imply global markov conditions)\n",
        "- edge dependence tests: these test that the edges that were included in the graph carry sufficient amount of correlation.\n",
        "\n",
        "In our case, we will only be focusing on the local markov tests. So we will reject the graph if any of the local markov tests fails, but we will ignore the other tests."
      ],
      "metadata": {
        "id": "9wnneuDwHLCF"
      }
    },
    {
      "cell_type": "code",
      "source": [
        "rej"
      ],
      "metadata": {
        "colab": {
          "base_uri": "https://localhost:8080/"
        },
        "id": "Tf581RGReSHM",
        "outputId": "3e21e3fd-e307-4771-b4e1-d63bccfba3e9"
      },
      "execution_count": null,
      "outputs": [
        {
          "output_type": "execute_result",
          "data": {
            "text/plain": [
              "(<RejectionResult.NOT_REJECTED: (<enum.auto object at 0x7f04039e4400>,)>,\n",
              " {'Z1': {'local_markov_test': {}, 'edge_dependence_test': {}},\n",
              "  'X1': {'local_markov_test': {'p_value': 0.14584789578377788,\n",
              "    'fdr_adjusted_p_value': 0.2121423938673133,\n",
              "    'success': True},\n",
              "   'edge_dependence_test': {'Z1': {'p_value': 0.0,\n",
              "     'fdr_adjusted_p_value': 0.0,\n",
              "     'success': True}}},\n",
              "  'D': {'local_markov_test': {'p_value': 0.9163864688377924,\n",
              "    'fdr_adjusted_p_value': 0.9163864688377924,\n",
              "    'success': True},\n",
              "   'edge_dependence_test': {'X1': {'p_value': 0.0,\n",
              "     'fdr_adjusted_p_value': 0.0,\n",
              "     'success': True},\n",
              "    'X2': {'p_value': 0.0, 'fdr_adjusted_p_value': 0.0, 'success': True}}},\n",
              "  'X2': {'local_markov_test': {'p_value': 0.27298801407907614,\n",
              "    'fdr_adjusted_p_value': 0.3639840187721015,\n",
              "    'success': True},\n",
              "   'edge_dependence_test': {'Z1': {'p_value': 0.0,\n",
              "     'fdr_adjusted_p_value': 0.0,\n",
              "     'success': True},\n",
              "    'Z2': {'p_value': 0.0, 'fdr_adjusted_p_value': 0.0, 'success': True}}},\n",
              "  'Z2': {'local_markov_test': {}, 'edge_dependence_test': {}},\n",
              "  'X3': {'local_markov_test': {'p_value': 0.7775477660496445,\n",
              "    'fdr_adjusted_p_value': 0.840180054883777,\n",
              "    'success': True},\n",
              "   'edge_dependence_test': {'Z2': {'p_value': 0.0,\n",
              "     'fdr_adjusted_p_value': 0.0,\n",
              "     'success': True}}},\n",
              "  'Y': {'local_markov_test': {'p_value': 0.40291499190785773,\n",
              "    'fdr_adjusted_p_value': 0.4958953746558249,\n",
              "    'success': True},\n",
              "   'edge_dependence_test': {'M': {'p_value': 0.0,\n",
              "     'fdr_adjusted_p_value': 0.0,\n",
              "     'success': True},\n",
              "    'X2': {'p_value': 0.0, 'fdr_adjusted_p_value': 0.0, 'success': True},\n",
              "    'X3': {'p_value': 0.0, 'fdr_adjusted_p_value': 0.0, 'success': True}}},\n",
              "  'M': {'local_markov_test': {'p_value': 0.7876688014535409,\n",
              "    'fdr_adjusted_p_value': 0.840180054883777,\n",
              "    'success': True},\n",
              "   'edge_dependence_test': {'D': {'p_value': 0.0,\n",
              "     'fdr_adjusted_p_value': 0.0,\n",
              "     'success': True}}}})"
            ]
          },
          "metadata": {},
          "execution_count": 32
        }
      ]
    },
    {
      "cell_type": "markdown",
      "source": [
        "Next we replaced $D$ by $\\bar D$ generated differently:\n",
        "$$\n",
        "\\bar D= (D + Y)/2\n",
        "$$\n",
        "So basically $\\bar D$ is an average of $D$ and $Y$ generated by $D$.  We then test if the resulting collection of random variables satisifes conditional indepdendence restrictions, exploiting linearity.  We end up rejectiong these restrictions and thefore the validity of this model for the data generated in this way.  This makes sense, because the new data no longer obeys the previous DAG structure.\n",
        "\n"
      ],
      "metadata": {
        "id": "7Ynmp1uW3nw1"
      }
    },
    {
      "cell_type": "code",
      "source": [
        "data['D'] = (data['D'] + data['Y'])/2"
      ],
      "metadata": {
        "id": "dHXvxWJyq52H"
      },
      "execution_count": null,
      "outputs": []
    },
    {
      "cell_type": "code",
      "source": [
        "rej = gcm.refute_causal_structure(causal_model.graph, data, conditional_independence_test=kernel_based)"
      ],
      "metadata": {
        "id": "RFLYfcHQ3vWH"
      },
      "execution_count": null,
      "outputs": []
    },
    {
      "cell_type": "code",
      "source": [
        "rej"
      ],
      "metadata": {
        "colab": {
          "base_uri": "https://localhost:8080/"
        },
        "id": "5qv6du3t3vyX",
        "outputId": "993b6d3d-c94c-4ba0-a095-e97394268e32"
      },
      "execution_count": null,
      "outputs": [
        {
          "output_type": "execute_result",
          "data": {
            "text/plain": [
              "(<RejectionResult.REJECTED: 1>,\n",
              " {'Z1': {'local_markov_test': {}, 'edge_dependence_test': {}},\n",
              "  'X1': {'local_markov_test': {'p_value': 0.5772659331444525,\n",
              "    'fdr_adjusted_p_value': 0.615750328687416,\n",
              "    'success': True},\n",
              "   'edge_dependence_test': {'Z1': {'p_value': 0.0,\n",
              "     'fdr_adjusted_p_value': 0.0,\n",
              "     'success': True}}},\n",
              "  'D': {'local_markov_test': {'p_value': 0.0,\n",
              "    'fdr_adjusted_p_value': 0.0,\n",
              "    'success': False},\n",
              "   'edge_dependence_test': {'X1': {'p_value': 0.0,\n",
              "     'fdr_adjusted_p_value': 0.0,\n",
              "     'success': True},\n",
              "    'X2': {'p_value': 0.0, 'fdr_adjusted_p_value': 0.0, 'success': True}}},\n",
              "  'X2': {'local_markov_test': {'p_value': 0.7146891102032591,\n",
              "    'fdr_adjusted_p_value': 0.7146891102032591,\n",
              "    'success': True},\n",
              "   'edge_dependence_test': {'Z1': {'p_value': 0.0,\n",
              "     'fdr_adjusted_p_value': 0.0,\n",
              "     'success': True},\n",
              "    'Z2': {'p_value': 0.0, 'fdr_adjusted_p_value': 0.0, 'success': True}}},\n",
              "  'Z2': {'local_markov_test': {}, 'edge_dependence_test': {}},\n",
              "  'X3': {'local_markov_test': {'p_value': 0.06181029380393577,\n",
              "    'fdr_adjusted_p_value': 0.07064033577592659,\n",
              "    'success': True},\n",
              "   'edge_dependence_test': {'Z2': {'p_value': 0.0,\n",
              "     'fdr_adjusted_p_value': 0.0,\n",
              "     'success': True}}},\n",
              "  'Y': {'local_markov_test': {'p_value': 0.0001735124801364174,\n",
              "    'fdr_adjusted_p_value': 0.0002135538217063599,\n",
              "    'success': False},\n",
              "   'edge_dependence_test': {'M': {'p_value': 0.0,\n",
              "     'fdr_adjusted_p_value': 0.0,\n",
              "     'success': True},\n",
              "    'X2': {'p_value': 0.0, 'fdr_adjusted_p_value': 0.0, 'success': True},\n",
              "    'X3': {'p_value': 0.0, 'fdr_adjusted_p_value': 0.0, 'success': True}}},\n",
              "  'M': {'local_markov_test': {'p_value': 0.0,\n",
              "    'fdr_adjusted_p_value': 0.0,\n",
              "    'success': False},\n",
              "   'edge_dependence_test': {'D': {'p_value': 0.0,\n",
              "     'fdr_adjusted_p_value': 0.0,\n",
              "     'success': True}}}})"
            ]
          },
          "metadata": {},
          "execution_count": 25
        }
      ]
    },
    {
      "cell_type": "markdown",
      "source": [
        "# Identification with Front-Door and DoWhy"
      ],
      "metadata": {
        "id": "1VEi5vhKk3aM"
      }
    },
    {
      "cell_type": "code",
      "source": [
        "data = gen_data(5000)"
      ],
      "metadata": {
        "id": "1I78DtXJP-2z"
      },
      "execution_count": null,
      "outputs": []
    },
    {
      "cell_type": "code",
      "source": [
        "import dowhy\n",
        "\n",
        "causal_graph = \"\"\"digraph {\n",
        "Z1; Z2; X1; X2; X3; D; M; Y;\n",
        "Z1 -> X1;\n",
        "X1 -> D;\n",
        "Z1 -> X2;\n",
        "Z2 -> X3;\n",
        "X3 -> Y;\n",
        "Z2 -> X2;\n",
        "X2 -> Y;\n",
        "X2 -> D;\n",
        "M -> Y;\n",
        "D -> M;\n",
        "}\"\"\""
      ],
      "metadata": {
        "id": "sQeyB38w3xgS"
      },
      "execution_count": null,
      "outputs": []
    },
    {
      "cell_type": "code",
      "source": [
        "cm = dowhy.CausalModel(data = data,\n",
        "        treatment='D',\n",
        "        outcome='Y',\n",
        "        graph=causal_graph)"
      ],
      "metadata": {
        "id": "hxdpclFAkybR"
      },
      "execution_count": null,
      "outputs": []
    },
    {
      "cell_type": "code",
      "source": [
        "from PIL import Image\n",
        "\n",
        "cm.view_model(file_name='dag')\n",
        "Image.open('dag.png')"
      ],
      "metadata": {
        "colab": {
          "base_uri": "https://localhost:8080/",
          "height": 785
        },
        "id": "yAAzz51slT-z",
        "outputId": "c9789a40-70e8-41f5-c42f-3760f4604fb0"
      },
      "execution_count": null,
      "outputs": [
        {
          "output_type": "execute_result",
          "data": {
            "text/plain": [
              "<PIL.PngImagePlugin.PngImageFile image mode=RGB size=437x768 at 0x7F6865F47730>"
            ],
            "image/png": "[encoded data removed]"
          },
          "metadata": {},
          "execution_count": 71
        }
      ]
    },
    {
      "cell_type": "code",
      "source": [
        "# method seems not to be doing false discovery rate (multiple testing/joint inference) control\n",
        "# some tests might fail because of that when k is large (k=size of conditioning set)\n",
        "print(cm.refute_graph(k=2))"
      ],
      "metadata": {
        "colab": {
          "base_uri": "https://localhost:8080/"
        },
        "id": "Kb0tdv2JPWBW",
        "outputId": "ca3914d9-59eb-4f67-91fd-21037618512d"
      },
      "execution_count": null,
      "outputs": [
        {
          "output_type": "stream",
          "name": "stdout",
          "text": [
            "Method name for discrete data:conditional_mutual_information\n",
            "Method name for continuous data:partial_correlation\n",
            "Number of conditional independencies entailed by model:55\n",
            "Number of independences satisfied by data:46\n",
            "Test passed:False\n",
            "\n"
          ]
        }
      ]
    },
    {
      "cell_type": "code",
      "source": [
        "identified_estimand = cm.identify_effect(proceed_when_unidentifiable=True)\n",
        "print(identified_estimand)"
      ],
      "metadata": {
        "colab": {
          "base_uri": "https://localhost:8080/"
        },
        "id": "6Ytk5z5KlVB5",
        "outputId": "0f085ffe-4279-42b8-f0b8-1a086d84a2e8"
      },
      "execution_count": null,
      "outputs": [
        {
          "output_type": "stream",
          "name": "stdout",
          "text": [
            "Estimand type: EstimandType.NONPARAMETRIC_ATE\n",
            "\n",
            "### Estimand : 1\n",
            "Estimand name: backdoor\n",
            "Estimand expression:\n",
            " d              \n",
            "────(E[Y|X2,Z2])\n",
            "d[D]            \n",
            "Estimand assumption 1, Unconfoundedness: If U→{D} and U→Y then P(Y|D,X2,Z2,U) = P(Y|D,X2,Z2)\n",
            "\n",
            "### Estimand : 2\n",
            "Estimand name: iv\n",
            "No such variable(s) found!\n",
            "\n",
            "### Estimand : 3\n",
            "Estimand name: frontdoor\n",
            "Estimand expression:\n",
            " ⎡ d       d       ⎤\n",
            "E⎢────(Y)⋅────([M])⎥\n",
            " ⎣d[M]    d[D]     ⎦\n",
            "Estimand assumption 1, Full-mediation: M intercepts (blocks) all directed paths from D to Y.\n",
            "Estimand assumption 2, First-stage-unconfoundedness: If U→{D} and U→{M} then P(M|D,U) = P(M|D)\n",
            "Estimand assumption 3, Second-stage-unconfoundedness: If U→{M} and U→Y then P(Y|M, D, U) = P(Y|M, D)\n",
            "\n"
          ]
        }
      ]
    },
    {
      "cell_type": "code",
      "source": [
        "estimate = cm.estimate_effect(identified_estimand, method_name='frontdoor.two_stage_regression')"
      ],
      "metadata": {
        "colab": {
          "base_uri": "https://localhost:8080/"
        },
        "id": "rZJIMkgrsd1A",
        "outputId": "2753c09b-83b3-4c6d-b7e2-51dfdf08b7c7"
      },
      "execution_count": null,
      "outputs": [
        {
          "output_type": "stream",
          "name": "stderr",
          "text": [
            "WARNING:dowhy.causal_estimator:First stage model not provided. Defaulting to sklearn.linear_model.LinearRegression.\n",
            "WARNING:dowhy.causal_estimator:Second stage model not provided. Defaulting to backdoor.linear_regression.\n"
          ]
        }
      ]
    },
    {
      "cell_type": "code",
      "source": [
        "print(estimate)"
      ],
      "metadata": {
        "colab": {
          "base_uri": "https://localhost:8080/"
        },
        "id": "MdpARgZSs5Ms",
        "outputId": "b5e84edc-8366-4a7f-961f-7f70f5c5b67b"
      },
      "execution_count": null,
      "outputs": [
        {
          "output_type": "stream",
          "name": "stdout",
          "text": [
            "*** Causal Estimate ***\n",
            "\n",
            "## Identified estimand\n",
            "Estimand type: EstimandType.NONPARAMETRIC_ATE\n",
            "\n",
            "### Estimand : 1\n",
            "Estimand name: frontdoor\n",
            "Estimand expression:\n",
            " ⎡ d       d       ⎤\n",
            "E⎢────(Y)⋅────([M])⎥\n",
            " ⎣d[M]    d[D]     ⎦\n",
            "Estimand assumption 1, Full-mediation: M intercepts (blocks) all directed paths from D to Y.\n",
            "Estimand assumption 2, First-stage-unconfoundedness: If U→{D} and U→{M} then P(M|D,U) = P(M|D)\n",
            "Estimand assumption 3, Second-stage-unconfoundedness: If U→{M} and U→Y then P(Y|M, D, U) = P(Y|M, D)\n",
            "\n",
            "## Realized estimand\n",
            "(b: M~D+D*X3)*(b: Y~M+X2+Z2+M*X3)\n",
            "Target units: ate\n",
            "\n",
            "## Estimate\n",
            "Mean value: 0.9886974170615646\n",
            "\n"
          ]
        }
      ]
    },
    {
      "cell_type": "code",
      "source": [],
      "metadata": {
        "id": "NgGRQ5cas94t"
      },
      "execution_count": null,
      "outputs": []
    }
  ]
}